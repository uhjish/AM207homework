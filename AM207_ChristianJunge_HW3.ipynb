{
 "cells": [
  {
   "cell_type": "markdown",
   "metadata": {},
   "source": [
    "# **AM 207**: Homework 3"
   ]
  },
  {
   "cell_type": "markdown",
   "metadata": {},
   "source": [
    "Verena Kaynig-Fittkau and Pavlos Protopapas  <br>\n",
    "**Due: 11.59 P.M. Thursday March 24th, 2016**"
   ]
  },
  {
   "cell_type": "markdown",
   "metadata": {},
   "source": [
    "### Instructions:\n",
    "\n",
    "+ Upload your answers in an ipython notebook to Canvas.\n",
    "\n",
    "+ We will provide you imports for your ipython notebook. Please do not import additional libraries.\n",
    "\n",
    "+ Your individual submissions should use the following filenames: AM207_YOURNAME_HW3.ipynb\n",
    "\n",
    "+ Your code should be in code cells as part of your ipython notebook. Do not use a different language (or format). \n",
    "\n",
    "+ **Do not just send your code. The homework solutions should be in a report style. Be sure to add comments to your code as well as markdown cells where you describe your approach and discuss your results. **\n",
    "\n",
    "+ Please submit your notebook in an executed status, so that we can see all the results you computed. However, we will still run your code and all cells should reproduce the output when executed. \n",
    "\n",
    "+ If you have multiple files (e.g. you've added code files or images) create a tarball for all files in a single file and name it: AM207_YOURNAME_HW3.tar.gz or AM207_YOURNAME_HW3.zip\n",
    "\n",
    "\n",
    "### Have Fun!\n",
    "_ _ _ _ _"
   ]
  },
  {
   "cell_type": "code",
   "execution_count": 971,
   "metadata": {
    "collapsed": false
   },
   "outputs": [],
   "source": [
    "import numpy as np\n",
    "import matplotlib\n",
    "import matplotlib.pyplot as plt\n",
    "%matplotlib inline\n",
    "\n",
    "import seaborn as sns\n",
    "sns.set_style(\"white\")\n",
    "\n",
    "import time\n",
    "import timeit\n",
    "\n",
    "import scipy.stats \n",
    "import pandas as pd\n",
    "import pymc as pm\n",
    "\n",
    "import re\n",
    "import numpy as np"
   ]
  },
  {
   "cell_type": "markdown",
   "metadata": {},
   "source": [
    "# Problem 1: Employee Satisfaction Improvement\n",
    "This problem is going to explore the differences between complete pooling, unpooling and partial pooling for a normal model with observed standard deviations. \n",
    "\n",
    "You are working for a consulting firm which is trying to find a good strategy to improve employee satisfaction for their customers. Your company ran pilot studies in eight different customer companies and measured the improvement in employee satisfaction after the plan had been implemented for two years. The data you are given is the mean and standard deviation of the satisfaction improvement, measured by a survey. \n",
    "You follow the nature of your data by modeling the effect of the strategie with a normal model. To simplify things you can assume that the different standard deviations are an effect of different sample sizes, and that there is actually one underlying observation variance:\n",
    "\n",
    "$$ \\sigma_j^2 = \\frac{\\sigma^2}{n_j}$$\n",
    "\n",
    "Thus the difference in the observed standard deviations in the survey results are caused by having different numbers of survey answers $n_j$. \n",
    "\n",
    "Discuss, create and compare three different solutions for your model using PYMC or another sampling method of your choice:\n",
    "\n",
    "* complete pooling\n",
    "* unpooling\n",
    "* partial pooling"
   ]
  },
  {
   "cell_type": "code",
   "execution_count": 1711,
   "metadata": {
    "collapsed": false
   },
   "outputs": [],
   "source": [
    "# Here is the data\n",
    "data = np.double(np.array([[29.5,18.4],[6.3,12.7],[-3.9,15.9],[7.2,10.2],[-2.1,9.0],[1.8,12.1],[19.6,7.3],[12,18.6]]))\n",
    "data_means = data[:,0]\n",
    "data_std = data[:,1]"
   ]
  },
  {
   "cell_type": "code",
   "execution_count": 1714,
   "metadata": {
    "collapsed": false,
    "scrolled": false
   },
   "outputs": [
    {
     "name": "stdout",
     "output_type": "stream",
     "text": [
      "[ 29.5   6.3  -3.9   7.2  -2.1   1.8  19.6  12. ]\n",
      "[ 18.4  12.7  15.9  10.2   9.   12.1   7.3  18.6]\n"
     ]
    }
   ],
   "source": [
    "# This problem and the data are nearly identical to the one explained in Gelman Chapter 5 for SAT score improvement\n",
    "\n",
    "print data_means\n",
    "print data_std"
   ]
  },
  {
   "cell_type": "markdown",
   "metadata": {},
   "source": [
    "## Complete Pooling"
   ]
  },
  {
   "cell_type": "markdown",
   "metadata": {},
   "source": [
    "Estimate of the common mean in the pooled case is given in Gelman (5.13)\n"
   ]
  },
  {
   "cell_type": "code",
   "execution_count": 1810,
   "metadata": {
    "collapsed": false,
    "scrolled": true
   },
   "outputs": [
    {
     "name": "stdout",
     "output_type": "stream",
     "text": [
      "Mean from complete pooling: 8.95046875093\n"
     ]
    }
   ],
   "source": [
    "mean_pooled=np.sum([(1/(data_std[i])**2)*data_means[i] for i in xrange(len(data))])/  \\\n",
    "            np.sum([1/(data_std[i]**2) for i in xrange(len(data))])\n",
    "print \"Mean from complete pooling:\", mean_pooled"
   ]
  },
  {
   "cell_type": "markdown",
   "metadata": {},
   "source": [
    "The formula for the common standard deviation is given in Gelman on page 144:"
   ]
  },
  {
   "cell_type": "code",
   "execution_count": 1811,
   "metadata": {
    "collapsed": false,
    "scrolled": true
   },
   "outputs": [
    {
     "name": "stdout",
     "output_type": "stream",
     "text": [
      "Standard Deviation from complete pooling: 3.96673968131\n"
     ]
    }
   ],
   "source": [
    "std_pooled = np.sqrt(np.sum([1/data_std[i]**2 for i in range(len(data))])**-1)\n",
    "print \"Standard Deviation from complete pooling:\", std_pooled"
   ]
  },
  {
   "cell_type": "markdown",
   "metadata": {},
   "source": [
    "## Partial Pooling"
   ]
  },
  {
   "cell_type": "code",
   "execution_count": 1872,
   "metadata": {
    "collapsed": false
   },
   "outputs": [
    {
     "name": "stdout",
     "output_type": "stream",
     "text": [
      " [-----------------100%-----------------] 11000 of 11000 complete in 4.5 sec"
     ]
    }
   ],
   "source": [
    "# I set uniform prior on the mean, with a wide uninformative prior\n",
    "mu_prior = pm.Uniform(\"mu_prior\", 0,25)\n",
    "\n",
    "sample_means = pm.Container([pm.Normal(\"mean_%i\" % i, mu=mu_prior, tau=data_std[i], trace=False) for\\\n",
    "                                                                                             i in range(8)])\n",
    "@pm.observed\n",
    "def likelihood(value=data, means=sample_means):\n",
    "    likelihoodd = 0\n",
    "    for i in range(len(data)):\n",
    "        likelihoodd += pm.normal_like(value[i][0], mu=means[i], tau=value[i][1]) \n",
    "    return likelihoodd\n",
    "\n",
    "M = pm.MCMC([data, mu_prior, sample_means, likelihood])\n",
    "M.sample(11000,1000,10)"
   ]
  },
  {
   "cell_type": "code",
   "execution_count": 1873,
   "metadata": {
    "collapsed": false
   },
   "outputs": [
    {
     "data": {
      "text/plain": [
       "{'mu_prior': {'95% HPD interval': array([ 9.37611385,  9.90265368]),\n",
       "  'mc error': 0.0096116044520818556,\n",
       "  'mean': 9.643897283085261,\n",
       "  'n': 1000,\n",
       "  'quantiles': {2.5: 9.3800544468403135,\n",
       "   25: 9.550534724290312,\n",
       "   50: 9.6399254051514145,\n",
       "   75: 9.742039677531757,\n",
       "   97.5: 9.9138220635061156},\n",
       "  'standard deviation': 0.13929719306529859}}"
      ]
     },
     "execution_count": 1873,
     "metadata": {},
     "output_type": "execute_result"
    }
   ],
   "source": [
    "M.stats()"
   ]
  },
  {
   "cell_type": "code",
   "execution_count": 1874,
   "metadata": {
    "collapsed": false
   },
   "outputs": [
    {
     "name": "stdout",
     "output_type": "stream",
     "text": [
      "Plotting mu_prior\n"
     ]
    },
    {
     "data": {
      "image/png": "[encoded data removed]",
      "text/plain": [
       "<matplotlib.figure.Figure at 0x138918190>"
      ]
     },
     "metadata": {},
     "output_type": "display_data"
    }
   ],
   "source": [
    "pm.Matplot.plot(mu_prior)"
   ]
  },
  {
   "cell_type": "markdown",
   "metadata": {},
   "source": [
    "### So my partial pooling estimate for the mean is 9.64, with an error of 0.14."
   ]
  },
  {
   "cell_type": "markdown",
   "metadata": {},
   "source": [
    "## Unpooling"
   ]
  },
  {
   "cell_type": "code",
   "execution_count": 1902,
   "metadata": {
    "collapsed": false
   },
   "outputs": [
    {
     "name": "stdout",
     "output_type": "stream",
     "text": [
      " [-----------------100%-----------------] 10000 of 10000 complete in 6.3 sec"
     ]
    }
   ],
   "source": [
    "# This time, each mean has its own prior\n",
    "mu_priors = pm.Container([pm.Uniform(\"mu_priors_%i\" %i, -5,35) for i in range(8)])\n",
    "\n",
    "sample_means = pm.Container([pm.Normal(\"mean_%i\" % i, mu=mu_priors[i], tau=data_std[i], trace=False) for\\\n",
    "                                                                                             i in range(8)])\n",
    "\n",
    "@pm.observed\n",
    "def likelihood(value=data, means=sample_means):\n",
    "    likelihoodd = 0\n",
    "    for i in range(len(data)):\n",
    "        likelihoodd += pm.normal_like(value[i][0], mu=means[i], tau=value[i][1]) \n",
    "    return likelihoodd\n",
    "\n",
    "M = pm.MCMC([data, mu_priors, sample_means, likelihood])\n",
    "M.sample(10000,100)"
   ]
  },
  {
   "cell_type": "code",
   "execution_count": 1903,
   "metadata": {
    "collapsed": true
   },
   "outputs": [],
   "source": [
    "# This time, the means are all produced from their own priors, so there are 8 means to report:"
   ]
  },
  {
   "cell_type": "code",
   "execution_count": 1904,
   "metadata": {
    "collapsed": false
   },
   "outputs": [
    {
     "data": {
      "text/plain": [
       "{'mu_priors_0': {'95% HPD interval': array([ 28.85609024,  30.13776965]),\n",
       "  'mc error': 0.014249648318217175,\n",
       "  'mean': 29.522874010890256,\n",
       "  'n': 9900,\n",
       "  'quantiles': {2.5: 28.857444745208458,\n",
       "   25: 29.297969132457204,\n",
       "   50: 29.52816632521769,\n",
       "   75: 29.740974771500003,\n",
       "   97.5: 30.149355588341656},\n",
       "  'standard deviation': 0.32863700634715148},\n",
       " 'mu_priors_1': {'95% HPD interval': array([ 5.68502928,  7.17624433]),\n",
       "  'mc error': 0.029663344024752049,\n",
       "  'mean': 6.3589690110832704,\n",
       "  'n': 9900,\n",
       "  'quantiles': {2.5: 5.6392954778930191,\n",
       "   25: 6.0744715572671009,\n",
       "   50: 6.3427831078396171,\n",
       "   75: 6.6233365405835629,\n",
       "   97.5: 7.1500282878707742},\n",
       "  'standard deviation': 0.44086548913926632},\n",
       " 'mu_priors_2': {'95% HPD interval': array([-4.56823127, -3.17003875]),\n",
       "  'mc error': 0.0260792979651732,\n",
       "  'mean': -3.8936254545517928,\n",
       "  'n': 9900,\n",
       "  'quantiles': {2.5: -4.5792578620279167,\n",
       "   25: -4.177721965982129,\n",
       "   50: -3.9126117304887997,\n",
       "   75: -3.6549047030218489,\n",
       "   97.5: -3.1700387522935567},\n",
       "  'standard deviation': 0.37347139627649001},\n",
       " 'mu_priors_3': {'95% HPD interval': array([ 6.46874942,  8.10041982]),\n",
       "  'mc error': 0.026418647938670464,\n",
       "  'mean': 7.2261389499073241,\n",
       "  'n': 9900,\n",
       "  'quantiles': {2.5: 6.3386984086742695,\n",
       "   25: 6.9291695952692489,\n",
       "   50: 7.2280192102022438,\n",
       "   75: 7.5153115245508983,\n",
       "   97.5: 8.0580515083026771},\n",
       "  'standard deviation': 0.43157633428471254},\n",
       " 'mu_priors_4': {'95% HPD interval': array([-2.9490653 , -1.22430805]),\n",
       "  'mc error': 0.026041540203868507,\n",
       "  'mean': -2.0869486446806071,\n",
       "  'n': 9900,\n",
       "  'quantiles': {2.5: -2.9424113271313121,\n",
       "   25: -2.4112726183398707,\n",
       "   50: -2.0843732758627262,\n",
       "   75: -1.7794424200762153,\n",
       "   97.5: -1.197926525635425},\n",
       "  'standard deviation': 0.45559001853486836},\n",
       " 'mu_priors_5': {'95% HPD interval': array([ 0.92735587,  2.45453646]),\n",
       "  'mc error': 0.02475979277113647,\n",
       "  'mean': 1.752024157371781,\n",
       "  'n': 9900,\n",
       "  'quantiles': {2.5: 0.95964815379940227,\n",
       "   25: 1.5122713388944895,\n",
       "   50: 1.7377578877388227,\n",
       "   75: 2.0209942174195641,\n",
       "   97.5: 2.5074725848403667},\n",
       "  'standard deviation': 0.3924338993571978},\n",
       " 'mu_priors_6': {'95% HPD interval': array([ 18.46910227,  20.54790985]),\n",
       "  'mc error': 0.028763263223581061,\n",
       "  'mean': 19.578539993954898,\n",
       "  'n': 9900,\n",
       "  'quantiles': {2.5: 18.502569754523268,\n",
       "   25: 19.220545460611739,\n",
       "   50: 19.623582912537518,\n",
       "   75: 19.938200591899967,\n",
       "   97.5: 20.597075938776708},\n",
       "  'standard deviation': 0.5385095620191418},\n",
       " 'mu_priors_7': {'95% HPD interval': array([ 11.27629111,  12.69478012]),\n",
       "  'mc error': 0.028134215291383297,\n",
       "  'mean': 12.015895369174853,\n",
       "  'n': 9900,\n",
       "  'quantiles': {2.5: 11.353486152184987,\n",
       "   25: 11.773786046069661,\n",
       "   50: 11.986239661006643,\n",
       "   75: 12.230982922675532,\n",
       "   97.5: 12.813998860671369},\n",
       "  'standard deviation': 0.37925247063523604}}"
      ]
     },
     "execution_count": 1904,
     "metadata": {},
     "output_type": "execute_result"
    }
   ],
   "source": [
    "M.stats()"
   ]
  },
  {
   "cell_type": "markdown",
   "metadata": {},
   "source": [
    "For each mu, we can compare its observation with its predicted value and error:"
   ]
  },
  {
   "cell_type": "code",
   "execution_count": 1906,
   "metadata": {
    "collapsed": false
   },
   "outputs": [
    {
     "name": "stdout",
     "output_type": "stream",
     "text": [
      "Observed: 29.5\n",
      "Unpooling estimate: 29.52\n",
      "Error of estimate: 0.33\n",
      "\n",
      "Observed: 6.3\n",
      "Unpooling estimate: 6.36\n",
      "Error of estimate: 0.44\n",
      "\n",
      "Observed: -3.9\n",
      "Unpooling estimate: -3.89\n",
      "Error of estimate: 0.37\n",
      "\n",
      "Observed: 7.2\n",
      "Unpooling estimate: 7.23\n",
      "Error of estimate: 0.43\n",
      "\n",
      "Observed: -2.1\n",
      "Unpooling estimate: -2.09\n",
      "Error of estimate: 0.46\n",
      "\n",
      "Observed: 1.8\n",
      "Unpooling estimate: 1.75\n",
      "Error of estimate: 0.39\n",
      "\n",
      "Observed: 19.6\n",
      "Unpooling estimate: 19.58\n",
      "Error of estimate: 0.54\n",
      "\n",
      "Observed: 12.0\n",
      "Unpooling estimate: 12.02\n",
      "Error of estimate: 0.38\n",
      "\n"
     ]
    }
   ],
   "source": [
    "for i in range(8):\n",
    "    print \"Observed:\", data_means[i]\n",
    "    print \"Unpooling estimate:\", \"{0:.2f}\".format(M.stats()['mu_priors_%i' % i]['mean'])\n",
    "    print \"Error of estimate:\", \"{0:.2f}\".format(M.stats()['mu_priors_%i' %i]['standard deviation'])\n",
    "    print\n",
    "    "
   ]
  },
  {
   "cell_type": "markdown",
   "metadata": {},
   "source": [
    "# Problem 2: Motif Finding Using Gibbs\n",
    "\n",
    "One interesting problem in bioinformatics is that of finding common subsequences of nucleotid bases (these subsequences are called motifs) that repeat themselves within larger DNA sequences. The problem is relevant for genetics because locating the positions of these motifs within the DNA sequence helps in the understanding of how genes are regulated.\n",
    "\n",
    "Suppose that you are a biologist who is analyzing genetic material collected in a nearby asteroid. The DNA of this extraterrestrial form of life is formed as a sequence of $n_B = 5$ nucleotide bases. Let us label these extraterrestrial nucleotides and put them in a vector $\\mathbf{b} = [\\rm{M}, \\rm{0}, \\rm{2}, \\rm{A}, \\rm{7}]$. You have a DNA sample $\\mathcal{S}$ consisting of $p=20$ sequences of DNA, each of them with a lenght $l=200$ nucleotide bases that you can find in <a href=\"HW3/Sequences_new.dat\">this file</a>. Each row of the file is a DNA sequence. You are asked to find a motif of $q = 5$ consecutive nucleotides hidden in the background that appears to repeat itself very often in the DNA you were given, but that appears only once in each of the sequences.\n",
    "\n",
    "Let us formalize the problem. The starting positions of the motif within each sequence (our missing data in the problem) can be represented by the set of random variables:\n",
    "\n",
    "$$\n",
    "\\mathcal{A} = \\left\\{a_k, k = 1,...,p\\right\\}\n",
    "$$\n",
    "\n",
    "The motif has to start somewhere within the sequences and so for each sequence $\\mathcal{S_k}$:\n",
    "\n",
    "$$\n",
    "\\sum_{i=1}^{l}P(a_k=i) = 1\n",
    "$$\n",
    "\n",
    "What we are after is the joint distribution $P(\\mathcal{A}|\\mathcal{S})$ for the motif alignment (i.e., its starting position) being $a_k$ for sequence $\\mathcal{S}_k$. As shown in [this paper](http://www.cs.cmu.edu/~epxing/Class/10810/readings/liu.pdf), for each sequence $\\mathcal{S}_k$ (think of each sequence as a dimension of our parameter space) we can obtain the conditional probability: \n",
    "\n",
    "$$\n",
    "P(a_k=i|\\mathcal{A_{\\hat{k}}},\\mathcal{S})=\\frac{1}{Z}\\prod_{j=1}^q\\left(\\frac{\\mathbf{\\hat{\\theta}_j}}{\\mathbf{\\hat{\\theta}_0}}\\right)^{s_{i+j-1}}\n",
    "$$\n",
    "\n",
    "where $\\mathcal{A_{\\hat{k}}}$ refers to the alignments in all sequences other than $\\mathcal{S}_k$, and $Z$ is a normalization factor. Of the other quantities, $s_x$ is a vector index for the *x-th* position in the sequence, with the same length as $\\mathbf{\\hat{\\theta_j}}$ and $\\mathbf{b}$. It takes a value of 1 at the entry that in $\\mathbf{b}$ corresponds to the base at position $x$ and 0 for all other entries. Finally, vectors $\\mathbf{\\hat{\\theta_j}}$ and $\\mathbf{\\hat{\\theta_0}}$ contain respectively the probabilities of observing the $q$ bases at the corresponding position of the current sequence, and the probabilities of finding the same bases in the background. It is important to note that the power, division, and multiplication of vectors in the equation above is performed entry-wise.\n",
    "\n",
    "Your only task is to design a Gibbs algorithm that samples the joint probability $P(\\mathcal{A}|\\mathcal{S})$. Your algorithm should converge and provide the alignments of the motif and the secret motif itself. Here are some hints/tasks that should help you and that will help the TF grading your homework:\n",
    "\n",
    "(a) Describe the equation for the conditional probabilities in your own words, and make sure you understand it before you code anything. Be as explicit as possible.\n",
    "\n",
    "(b) Start by assigning random starting positions for the $q$-long motif in all sequences. Then exclude a particular sequence $S_k$ (your current sequence) and use the remaining sequences to construct $\\mathbf{\\Theta}$ as a probability matrix from counting the number of times that the *i-th* base appears in position $j$ of the motif given the current alignments. Construct also a vector $\\mathbf{\\hat{\\theta_0}}$ from counting the number of times that the *i-th* base appears in the background. Note that the vectors $\\mathbf{\\hat{\\theta_j}}$ are the columns of matrix $\\mathbf{\\Theta}$.\n",
    "\n",
    "(c) From $\\mathbf{\\Theta}$ and $\\mathbf{\\theta_0}$, derive the conditional probability over all possible alignments for your current sequence and draw a sample from it. This sample will be your updated alignment for the current sequence.\n",
    "\n",
    "(d) Iterate over all $p$ sequences. Such iteration over sequences is only one Gibbs iteration. After enough Gibbs iterations you should start noticing that the algorithm has converged.\n"
   ]
  },
  {
   "cell_type": "markdown",
   "metadata": {},
   "source": [
    "## Solution:\n",
    "(a) The equation for the conditional probabilities states that the probability that the starting position of the motif in a given sequence is equal to a starting position i, given the other sequences, is equal to a normalized product of five terms.  The exponent is equal to 1 or 0 to select the appropriate position within the motif.  Each term of the product is the quotient of the probability of observing the base at that position within the current sequence and the probability of observing the base at that position in the other 19 sequences.  "
   ]
  },
  {
   "cell_type": "code",
   "execution_count": 972,
   "metadata": {
    "collapsed": false
   },
   "outputs": [],
   "source": [
    "# Load the data\n",
    "data = np.loadtxt('../Homeworks/HW3/Sequences_new.dat',dtype=str)"
   ]
  },
  {
   "cell_type": "markdown",
   "metadata": {},
   "source": [
    "(b) Assign random starting positions for the motif.  "
   ]
  },
  {
   "cell_type": "code",
   "execution_count": 881,
   "metadata": {
    "collapsed": false,
    "scrolled": true
   },
   "outputs": [
    {
     "data": {
      "text/plain": [
       "array([140,  99,  72,  12, 182,  91,  43,  72,  37, 143,  60,  17,  53,\n",
       "       171,  33,  89, 187,  53,  32,  19])"
      ]
     },
     "execution_count": 881,
     "metadata": {},
     "output_type": "execute_result"
    }
   ],
   "source": [
    "starting_positions = np.random.randint(0,194,20)\n",
    "starting_positions"
   ]
  },
  {
   "cell_type": "code",
   "execution_count": 882,
   "metadata": {
    "collapsed": false,
    "scrolled": true
   },
   "outputs": [
    {
     "name": "stdout",
     "output_type": "stream",
     "text": [
      "0A07M\n"
     ]
    }
   ],
   "source": [
    "# The motif for the kth sequence with the given random starting position. \n",
    "# To demonstrate, I display the motif for the 0th sequence.  \n",
    "k=0\n",
    "motif = data[k][starting_positions[k]:starting_positions[k]+5]\n",
    "print motif"
   ]
  },
  {
   "cell_type": "markdown",
   "metadata": {},
   "source": [
    "To create the matrix for the kth sequence, I will have to count how many times the ith value from the motif occurs in the jth position for each of the other 19 sequences"
   ]
  },
  {
   "cell_type": "code",
   "execution_count": 883,
   "metadata": {
    "collapsed": false,
    "scrolled": true
   },
   "outputs": [
    {
     "name": "stdout",
     "output_type": "stream",
     "text": [
      "['MM022MA7A7720M22700', '72007A2MA20A7A0A70A', '700M00A2A7AMMMA0770', '7AM0MA2AMAAMA07M220', 'A27AMAAM2270M00077A']\n"
     ]
    }
   ],
   "source": [
    "\n",
    "# I create a list of indexes for the 20 sequences.  I remove the index of the current sequence\n",
    "seq_starting_idxs = range(20); seq_starting_idxs.remove(k)\n",
    "\n",
    "# I create list of empty strings that I will add all of the bases for given positions to\n",
    "base_counts = ['','','','','']\n",
    "\n",
    "# I also create a string for the background\n",
    "background = ''\n",
    "\n",
    "# Now for each of the 19 sequences, I add the base at the corresponding position within the motif for each of the \n",
    "#    five positions within the motif.\n",
    "for seq in seq_starting_idxs:\n",
    "    # Add the nucleotide base that occurs at each motif position in this sequence.\n",
    "    base_counts[0] += data[seq][starting_positions[seq]+0]\n",
    "    base_counts[1] += data[seq][starting_positions[seq]+1]\n",
    "    base_counts[2] += data[seq][starting_positions[seq]+2]\n",
    "    base_counts[3] += data[seq][starting_positions[seq]+3]\n",
    "    base_counts[4] += data[seq][starting_positions[seq]+4]\n",
    "    \n",
    "    # Add the background bases.\n",
    "    background += data[seq][0:starting_positions[seq]] + data[seq][starting_positions[seq]+5:len(data[seq])]\n",
    "print base_counts"
   ]
  },
  {
   "cell_type": "code",
   "execution_count": 884,
   "metadata": {
    "collapsed": false,
    "scrolled": true
   },
   "outputs": [
    {
     "name": "stdout",
     "output_type": "stream",
     "text": [
      "[[ 0.10526316  0.31578947  0.21052632  0.31578947  0.26315789]\n",
      " [ 0.21052632  0.05263158  0.21052632  0.26315789  0.15789474]\n",
      " [ 0.26315789  0.15789474  0.05263158  0.15789474  0.15789474]\n",
      " [ 0.21052632  0.26315789  0.31578947  0.15789474  0.21052632]\n",
      " [ 0.21052632  0.21052632  0.21052632  0.10526316  0.21052632]]\n",
      "[ 0.20134953  0.18974359  0.20350877  0.19325236  0.21214575]\n"
     ]
    },
    {
     "data": {
      "text/plain": [
       "4.9999999999999991"
      ]
     },
     "execution_count": 884,
     "metadata": {},
     "output_type": "execute_result"
    }
   ],
   "source": [
    "# From these, I can generate my matrix:\n",
    "theta_j = np.zeros((5,5))\n",
    "theta_0 = np.zeros(5)\n",
    "for motif_position in range(5):\n",
    "    # For each possible base, count how many of this base was present in each motif position.\n",
    "    # Each row of the matrix corresponds to the nucleotides A, M, 2, 0, and 7.  \n",
    "    # Each column corresponds to the jth positions within the motifs.  \n",
    "    for idx, base in enumerate('AM207'):\n",
    "        theta_j[idx, motif_position] = base_counts[motif_position].count(base)\n",
    "    \n",
    "        # I also count the bases in the background:\n",
    "        if motif_position==0:\n",
    "            theta_0[idx] = background.count(base)\n",
    "    # I turn each column of theta_j into a probability distribution by dividing by its sum\n",
    "    theta_j[:, motif_position] = theta_j[:, motif_position]/np.sum(theta_j[:, motif_position])\n",
    "print theta_j\n",
    "\n",
    "# I turn theta_0 into a probability distribution by dividing each element by the total\n",
    "theta_0 = theta_0/np.sum(theta_0)\n",
    "print theta_0\n",
    "\n",
    "np.sum(theta_j)\n"
   ]
  },
  {
   "cell_type": "markdown",
   "metadata": {},
   "source": [
    "That all worked, so I'll package those into functions that can be called repeatedly:"
   ]
  },
  {
   "cell_type": "code",
   "execution_count": 1078,
   "metadata": {
    "collapsed": false,
    "scrolled": true
   },
   "outputs": [],
   "source": [
    "def get_thetas(data, current_sequence, starting_positions, possible_bases = 'AM207'):\n",
    "    \"\"\"\n",
    "    Creates the theta_j and theta_0 needed to generate probabilities for a sequence\n",
    "    \n",
    "    Inputs:\n",
    "    -------\n",
    "    data: List of sequences, where each sequence is a string\n",
    "    current_sequence: index of the sequence within the data that we are currently working over\n",
    "    starting_positions: array of indices of starting positions for motifs in the current iteration\n",
    "    possible_bases: the individual nucleotides that compose the sequences as a string\n",
    "    \n",
    "    Returns:\n",
    "    --------\n",
    "    theta_j: 'Big Theta' containing the probabilities of each nucleotide in each position\n",
    "    theta_0: Probabilities of nucleotides in the background\n",
    "    \"\"\"\n",
    "    \n",
    "    # I create a list of indexes for the 20 sequences.  I remove the index of the current sequence\n",
    "    seq_starting_idxs = range(len(data)); seq_starting_idxs.remove(current_sequence)\n",
    "\n",
    "    # I create list of empty strings that I will add all of the bases for given positions to\n",
    "    base_counts = ['','','','','']\n",
    "\n",
    "    # I also create a string for the background\n",
    "    background = ''\n",
    "    \n",
    "    # We will need a row and a column for each possible nucleotide in the motif\n",
    "    motif_length = len(possible_bases)\n",
    "\n",
    "    # Now for each of the 19 sequences, I add the base at the corresponding position within the motif for each of the \n",
    "    #    five positions within the motif.\n",
    "    for seq in seq_starting_idxs:\n",
    "        # Add the nucleotide base that occurs at each motif position in this sequence.\n",
    "        for mot in range(motif_length):\n",
    "            base_counts[mot] += data[seq][starting_positions[seq]+mot]\n",
    "\n",
    "        # Add the background bases before the motif and after it.\n",
    "        background += data[seq][0:starting_positions[seq]] + \\\n",
    "                        data[seq][starting_positions[seq]+motif_length:len(data[seq])] \n",
    "    \n",
    "    # From these, I can generate my matrix:\n",
    "    theta_j = np.zeros((motif_length,motif_length))\n",
    "    theta_0 = np.zeros(motif_length)\n",
    "    for motif_position in range(motif_length):\n",
    "        # For each possible base, count how many of this base was present in each motif position.\n",
    "        # Each row of the matrix corresponds to the nucleotides A, M, 2, 0, and 7.  \n",
    "        # Each column corresponds to the jth positions within the motifs.  \n",
    "        for idx, base in enumerate(possible_bases):\n",
    "            theta_j[idx, motif_position] = base_counts[motif_position].count(base)\n",
    "\n",
    "            # I also count the bases in the background:\n",
    "            if motif_position==0:\n",
    "                theta_0[idx] = background.count(base)\n",
    "        # I turn each column of theta_j into a probability distribution by dividing by its sum\n",
    "        theta_j[:, motif_position] = theta_j[:, motif_position]/np.sum(theta_j[:, motif_position])\n",
    "\n",
    "    # I turn theta_0 into a probability distribution by dividing each element by the total\n",
    "    theta_0 = theta_0/np.sum(theta_0)\n",
    "    return theta_j, theta_0\n"
   ]
  },
  {
   "cell_type": "markdown",
   "metadata": {},
   "source": [
    "(c) Now I define a function to generate the probabilities for the starting positions of a sequence given the theta matrices:"
   ]
  },
  {
   "cell_type": "code",
   "execution_count": 1335,
   "metadata": {
    "collapsed": false
   },
   "outputs": [],
   "source": [
    "def get_probabilities(data, current_sequence, theta_j, theta_0, possible_bases='AM207'):\n",
    "    \"\"\"\n",
    "    Returns a vector of probabilities that each location within a sequence is the start of the motif\n",
    "    \n",
    "    Inputs:\n",
    "    -------\n",
    "    data: List of sequences, where each sequence is a string\n",
    "    current_sequence: index of the sequence within the data that we are currently working over\n",
    "    theta_j: matrix of probabilities for each nucleotide within each motif position\n",
    "    theta_0: probabilities of each nucleotide in the background\n",
    "    possible_bases: the individual nucleotides that compose the sequences as a string\n",
    "    \n",
    "    Returns:\n",
    "    --------\n",
    "    probs: an array of probabilities for each starting position\n",
    "    \"\"\"\n",
    "    \n",
    "    motif_length = len(possible_bases)\n",
    "    # I create a vector of probabilities for each possible starting position of the current sequence\n",
    "    probs = np.zeros(len(data[current_sequence]) - motif_length)\n",
    "    \n",
    "    for starting_position in range(len(probs)):\n",
    "        prob = 1\n",
    "        # Use the equation in the description to multiply the ratio of probabilities from the theta matrices\n",
    "        #    that correspond to the bases in the motif.  \n",
    "        for col in range(motif_length):\n",
    "            base = data[current_sequence][starting_position+col]\n",
    "            base_index = possible_bases.index(base)\n",
    "            prob *= theta_j[base_index, col]/theta_0[base_index]\n",
    "        \n",
    "        # Set the probability for each starting position to the product found above.  \n",
    "        probs[starting_position]=prob\n",
    "\n",
    "    # Add a pseudocount of 0.3 to each probability so that none are ever zero, and normalize to create a probability\n",
    "    #     distribution.  Through trial and error, I found that this value allowed me to always converge eventually,\n",
    "    #     while with smaller values I would get stuck in a local optimum where most starting positions were one off\n",
    "    #     from the actual optimum, so they all looked like: \"M207A\", \"M207A\", \"M2070\", etc.  \n",
    "    probs = (probs+.3)/np.sum(probs+0.3)\n",
    "    return probs\n"
   ]
  },
  {
   "cell_type": "markdown",
   "metadata": {},
   "source": [
    "(d) Now I put this all together to create a function that does a single iteration of Gibbs sampling given the motif positions from the previous iteration (or the starting point), to give motif starting points for the following iteration.  "
   ]
  },
  {
   "cell_type": "code",
   "execution_count": 1336,
   "metadata": {
    "collapsed": false
   },
   "outputs": [],
   "source": [
    "def gibbs_iteration(data, starting_positions, possible_bases='AM207'):\n",
    "    \"\"\"\n",
    "    A single iteration of Gibbs sampling over all the dimensions (each sequence)\n",
    "    \n",
    "    Inputs:\n",
    "    -------\n",
    "    data: List of sequences, where each sequence is a string\n",
    "    starting_positions: array of indices of starting positions for motifs in the current iteration\n",
    "    possible_bases: the individual nucleotides that compose the sequences as a string\n",
    "    \n",
    "    Returns:\n",
    "    --------\n",
    "    The starting positions of the motifs of each sequence for the following iteration.  \n",
    "    \"\"\"\n",
    "    next_positions = np.zeros(len(starting_positions),dtype=int)\n",
    "    for sequence in range(len(data)):\n",
    "        # Within each Gibbs iteration, use the motif starting point for each sequence to create theta matrices.\n",
    "        thetaj, theta0 = get_thetas(data, sequence, starting_positions)\n",
    "        \n",
    "        # Use the theta matrices to create a vector of probabilities for each starting point in the sequence.  \n",
    "        probabilities = get_probabilities(data, sequence, thetaj, theta0)\n",
    "        \n",
    "        # Use the probabilities to select a starting point for this sequence for the next iteration\n",
    "        next_positions[sequence] = np.random.choice(range(len(data[0])-len(possible_bases)), p=probabilities)\n",
    "        \n",
    "    return next_positions"
   ]
  },
  {
   "cell_type": "markdown",
   "metadata": {},
   "source": [
    "Now I need a helper function that I can use to test out Gibbs sampling:"
   ]
  },
  {
   "cell_type": "code",
   "execution_count": 1348,
   "metadata": {
    "collapsed": true
   },
   "outputs": [],
   "source": [
    "# This function tests for convergence by checking whether a vector of motif starting positions encodes 20 identical\n",
    "#    motifs.  If all 20 are identical, the sampling has found the correct starting positions.  \n",
    "def all_same(starts):\n",
    "    are_same=True\n",
    "    ctr=0 #counter\n",
    "    \n",
    "    # Start with the first motif in the sequence\n",
    "    last_motif = data[ctr][starts[ctr]:starts[ctr]+5] \n",
    "    \n",
    "    while are_same and ctr < 19:\n",
    "        ctr+=1 # Index is 19 on the last iteration for the 20th sequence\n",
    "        \n",
    "        motif = data[ctr][starts[ctr]:starts[ctr]+5]\n",
    "        \n",
    "        # Boolean value for whether all of the motifs are the same.  \n",
    "        are_same = (motif==last_motif)\n",
    "        last_motif=motif\n",
    "        \n",
    "    return are_same"
   ]
  },
  {
   "cell_type": "markdown",
   "metadata": {},
   "source": [
    "### Gibbs sampling demonstration:"
   ]
  },
  {
   "cell_type": "code",
   "execution_count": 1342,
   "metadata": {
    "collapsed": false
   },
   "outputs": [
    {
     "name": "stdout",
     "output_type": "stream",
     "text": [
      "Converged in 84 iterations.\n",
      "AM207\n",
      "AM207\n",
      "AM207\n",
      "AM207\n",
      "AM207\n",
      "AM207\n",
      "AM207\n",
      "AM207\n",
      "AM207\n",
      "AM207\n",
      "AM207\n",
      "AM207\n",
      "AM207\n",
      "AM207\n",
      "AM207\n",
      "AM207\n",
      "AM207\n",
      "AM207\n",
      "AM207\n",
      "AM207\n"
     ]
    }
   ],
   "source": [
    "# Random starting positions\n",
    "pos = np.random.randint(0,195,20)\n",
    "\n",
    "# Iteration counter\n",
    "i = 0\n",
    "\n",
    "# Starting condition for the starting position\n",
    "are_same = all_same(pos)\n",
    "\n",
    "# While the starting positions do not encode identical motifs\n",
    "while not are_same:\n",
    "    # Perform a Gibbs iteration to create new starting positions\n",
    "    pos = gibbs_iteration(data,pos)\n",
    "    \n",
    "    # Test whether the motifs at the starting positions are all the same\n",
    "    are_same = all_same(pos)\n",
    "    \n",
    "    # Increment iteration counter\n",
    "    i+=1\n",
    "    \n",
    "print \"Converged in\", i, \"iterations.\"\n",
    "\n",
    "for i in range(20):\n",
    "    # Show all the motifs.  \n",
    "    print data[i][pos[i]:pos[i]+5]"
   ]
  },
  {
   "cell_type": "markdown",
   "metadata": {},
   "source": [
    "# Problem 3: Optimizing Hand Luggage\n",
    "\n",
    "You are going on a trip and have to optimize your hand luggage, but thanks to your cheap flight ticket, the weight of the hand lugagge is restricted and you are sure the airline will enforce the upper limit. You have a set of presents that you want to bring to the relatives you are visiting, but you have to notice that they don't all fit into your suitcase. \n",
    "\n",
    "This problem is also called the knapsack problem: given a set of items, each has its weight and value, determine which items should be included into your suitcase, so that the total weight does not exceed some value $W$ and the total value is maximal. The kind of the knapsack problem when each item can be included into the collection at most once is called the 0/1 knapsack problem. Your task is to solve this problem using simulated annealing. \n",
    "\n",
    "Implement simulated annealing to solve this problem with the list of items below. Which ones would you pick for your suitcase? Plot and discuss your optimization scheme and results. \n",
    "Compare your solution to a greedy algorithm, which sorts the items by the ratio $\\frac{v_i}{w_i}$ and puts them into the suitcase consecutively."
   ]
  },
  {
   "cell_type": "code",
   "execution_count": 192,
   "metadata": {
    "collapsed": false
   },
   "outputs": [],
   "source": [
    "# here is your data:\n",
    "\n",
    "#number_of_data_points\n",
    "N = 100\n",
    "\n",
    "#total_weight_limit \n",
    "W = 3000\n",
    "\n",
    "# weight of all the different items\n",
    "w = np.array([  38,  236,  909,   73,  768,  906,  716,  646,  848,  961,  145,\n",
    "        130,  973,  584,  750,  509,  391,  282,  179,  277,  255,  358,\n",
    "        915,  469,  908,  253,  491,  669,  926,  399,  563,  581,  216,\n",
    "        984,  754,  504,  479,  865,   87,  142,  394,    8,  320,  830,\n",
    "        535,  314,  514,  897,  317,  210,  265,  729,  654,  628,  432,\n",
    "        634,  457,  543,   72,  388,  455,  918,  562,  314,  516,  965,\n",
    "        793,  498,   44,  589,   27,  821,  337,  622,  884,  298,  467,\n",
    "         16,   65,  197,   26,  368,  739,  472,  904,  283,  666,  617,\n",
    "         23,  778,  708, 1000,  127,  280,  382,  357,  156,  934,  314,\n",
    "        596])\n",
    "\n",
    "# value of all different items\n",
    "v = np.array([36, 38, 30, 32, 40, 45, 45, 37, 49, 40, 44, 30, 31, 47, 43, 33, 30,\n",
    "       43, 36, 50, 36, 32, 42, 41, 37, 43, 38, 41, 42, 41, 50, 34, 37, 37,\n",
    "       43, 34, 46, 48, 30, 43, 40, 47, 37, 40, 50, 30, 42, 31, 39, 48, 49,\n",
    "       31, 32, 42, 37, 32, 40, 30, 39, 48, 36, 32, 37, 37, 46, 45, 35, 47,\n",
    "       40, 50, 46, 35, 43, 47, 48, 31, 50, 40, 30, 37, 30, 49, 47, 44, 43,\n",
    "       50, 50, 41, 36, 43, 45, 39, 32, 37, 35, 34, 35, 38, 43, 47])"
   ]
  },
  {
   "cell_type": "markdown",
   "metadata": {},
   "source": [
    "### Greedy\n"
   ]
  },
  {
   "cell_type": "code",
   "execution_count": 787,
   "metadata": {
    "collapsed": false,
    "scrolled": true
   },
   "outputs": [
    {
     "data": {
      "text/html": [
       "<div>\n",
       "<table border=\"1\" class=\"dataframe\">\n",
       "  <thead>\n",
       "    <tr style=\"text-align: right;\">\n",
       "      <th></th>\n",
       "      <th>Weight</th>\n",
       "      <th>Value</th>\n",
       "      <th>Ratio</th>\n",
       "    </tr>\n",
       "  </thead>\n",
       "  <tbody>\n",
       "    <tr>\n",
       "      <th>41</th>\n",
       "      <td>8</td>\n",
       "      <td>47</td>\n",
       "      <td>5.875000</td>\n",
       "    </tr>\n",
       "    <tr>\n",
       "      <th>77</th>\n",
       "      <td>16</td>\n",
       "      <td>40</td>\n",
       "      <td>2.500000</td>\n",
       "    </tr>\n",
       "    <tr>\n",
       "      <th>70</th>\n",
       "      <td>27</td>\n",
       "      <td>46</td>\n",
       "      <td>1.703704</td>\n",
       "    </tr>\n",
       "    <tr>\n",
       "      <th>88</th>\n",
       "      <td>23</td>\n",
       "      <td>36</td>\n",
       "      <td>1.565217</td>\n",
       "    </tr>\n",
       "    <tr>\n",
       "      <th>80</th>\n",
       "      <td>26</td>\n",
       "      <td>30</td>\n",
       "      <td>1.153846</td>\n",
       "    </tr>\n",
       "  </tbody>\n",
       "</table>\n",
       "</div>"
      ],
      "text/plain": [
       "    Weight  Value     Ratio\n",
       "41       8     47  5.875000\n",
       "77      16     40  2.500000\n",
       "70      27     46  1.703704\n",
       "88      23     36  1.565217\n",
       "80      26     30  1.153846"
      ]
     },
     "execution_count": 787,
     "metadata": {},
     "output_type": "execute_result"
    }
   ],
   "source": [
    "# First, I create a dataframe of the weights and values\n",
    "df= pd.DataFrame(np.vstack((w,v)).T)\n",
    "df.columns=['Weight','Value']\n",
    "\n",
    "# Next, I calculate the Ratio of value to weight for each item\n",
    "df['Ratio']=df['Value']/df['Weight']\n",
    "\n",
    "# Next, sort by the ratio\n",
    "df = df.sort_values(by='Ratio',ascending=False)\n",
    "\n",
    "df.head()"
   ]
  },
  {
   "cell_type": "code",
   "execution_count": 194,
   "metadata": {
    "collapsed": false,
    "scrolled": true
   },
   "outputs": [
    {
     "name": "stdout",
     "output_type": "stream",
     "text": [
      "Total Bag Value: 897.0\n",
      "Total Bag Weight: 2806.0\n",
      "Last item #: 23\n"
     ]
    }
   ],
   "source": [
    "# Next, I add items to the bag until it is full.\n",
    "bag_weight = 0\n",
    "bag_value = 0\n",
    "idx = 0\n",
    "\n",
    "while bag_weight < W:\n",
    "    new_bag_weight = bag_weight + df.iloc[idx]['Weight']\n",
    "    if new_bag_weight <= W:\n",
    "        bag_weight = new_bag_weight\n",
    "        bag_value = bag_value + df.iloc[idx]['Value']\n",
    "        idx+=1\n",
    "    else:\n",
    "        print \"Total Bag Value:\", bag_value\n",
    "        print \"Total Bag Weight:\", bag_weight\n",
    "        print \"Last item #:\", idx\n",
    "        break"
   ]
  },
  {
   "cell_type": "markdown",
   "metadata": {},
   "source": [
    "#### In the next part, I store the state of the bag as a true/false value for each item.  To integrate the greedy solution with the form used in my Simulated Annealing implementation below, I will convert the indexes returned here to a boolean array.  "
   ]
  },
  {
   "cell_type": "code",
   "execution_count": 256,
   "metadata": {
    "collapsed": false
   },
   "outputs": [],
   "source": [
    "positions = df.index[:23]\n",
    "greedy_indices = np.zeros(100, dtype=bool)\n",
    "for i in positions:\n",
    "    greedy_indices[i] = True"
   ]
  },
  {
   "cell_type": "markdown",
   "metadata": {},
   "source": [
    "## Simulated Annealing"
   ]
  },
  {
   "cell_type": "markdown",
   "metadata": {},
   "source": [
    "#### First, I need a function to give me a random bag to start with:\n"
   ]
  },
  {
   "cell_type": "code",
   "execution_count": 518,
   "metadata": {
    "collapsed": true
   },
   "outputs": [],
   "source": [
    "def random_bag(values=v, weights=w, max_weight=W):\n",
    "    length = len(values)\n",
    "    \n",
    "    # Generate random indices to determine the order to add items to the bag\n",
    "    randos = np.random.choice(range(length), length, replace=False)\n",
    "    \n",
    "    # Start with empty bag\n",
    "    bag_weight=0\n",
    "    bag_value=0\n",
    "    \n",
    "    # Counter for the randomly generated indices\n",
    "    ctr=0\n",
    "    \n",
    "    # Boolean array of indices of items in the bag.\n",
    "    indices = np.zeros(length, dtype=bool)\n",
    "    \n",
    "    while bag_weight < max_weight:\n",
    "        # Pull array index of next item from random indices generated earlier\n",
    "        idxx = randos[ctr]\n",
    "        new_item_weight = weights[idxx]\n",
    "        \n",
    "        # New proposed weight is the running total plus the weight of the next item\n",
    "        new_bag_weight = bag_weight + new_item_weight\n",
    "        \n",
    "        if new_bag_weight <= max_weight:\n",
    "            bag_weight = new_bag_weight\n",
    "            bag_value = bag_value + values[idxx]\n",
    "            \n",
    "            # Set the position of this item to true to add it to the bag\n",
    "            indices[idxx]=True\n",
    "        else: # Next item doesn't fit in the bag\n",
    "            break\n",
    "        \n",
    "        ctr+=1\n",
    "    \n",
    "    # indices is true for every item that is in the bag, false for all others\n",
    "    return indices"
   ]
  },
  {
   "cell_type": "markdown",
   "metadata": {},
   "source": [
    "#### Next, some simple functions that will come in handy later on for assessing bags"
   ]
  },
  {
   "cell_type": "code",
   "execution_count": 199,
   "metadata": {
    "collapsed": false
   },
   "outputs": [],
   "source": [
    "# Lambda function to give total value of a bag.\n",
    "total_value  = lambda indices, values: np.sum(values[indices])\n",
    "\n",
    "# Lambda function to give total weight of a bag.\n",
    "total_weight = lambda indices, weights: np.sum(weights[indices])\n",
    "    "
   ]
  },
  {
   "cell_type": "markdown",
   "metadata": {},
   "source": [
    "### Let's get an idea of the distribution of random bag values."
   ]
  },
  {
   "cell_type": "code",
   "execution_count": 522,
   "metadata": {
    "collapsed": false,
    "scrolled": false
   },
   "outputs": [
    {
     "data": {
      "image/png": "[encoded data removed]",
      "text/plain": [
       "<matplotlib.figure.Figure at 0x128f81e90>"
      ]
     },
     "metadata": {},
     "output_type": "display_data"
    }
   ],
   "source": [
    "greedy_value = total_value(greedy_indices, v)\n",
    "\n",
    "# We'll sample 100,000 of them to get an idea of how random bags are distributed\n",
    "iterations = 100000\n",
    "\n",
    "# Values of the samples bags\n",
    "bags = np.zeros(iterations)\n",
    "\n",
    "for i in range(iterations):\n",
    "    bags[i] = total_value(random_bag(), v)\n",
    "    \n",
    "plt.hist(bags, bins = 20, label = \"Random Bags\")\n",
    "plt.axvline(greedy_value, color='r', label = \"Greedy solution\")\n",
    "plt.xlabel(\"Total Bag Value\")\n",
    "plt.title('Distribution of Possible Bag Values from Random Sampling')\n",
    "plt.legend(loc='upper center')\n",
    "plt.xlim([0,np.max([greedy_value,np.max(bags)])+103]);"
   ]
  },
  {
   "cell_type": "markdown",
   "metadata": {},
   "source": [
    "#### For my simulated annealing, I will need a function that perturbs my current bag.  I tried a few different ways of doing this, and this one worked the best.  It simply picks an item to add to the bag, and then removes random items from the bag until the new item fits.  "
   ]
  },
  {
   "cell_type": "code",
   "execution_count": 524,
   "metadata": {
    "collapsed": true
   },
   "outputs": [],
   "source": [
    "# Function to swap items in and out of bag\n",
    "def swap_items(indices, weights=w, values=v, max_weight=W):\n",
    "    # Create a copy of the indices that were passed in.  This will be perturbed and returned.  \n",
    "    indexes = np.copy(indices)\n",
    "\n",
    "    # Create the array indices of items that are (in)/(not in) the bag\n",
    "    idxs = np.array(range(len(indexes)))\n",
    "    in_bag = idxs[indexes]\n",
    "    out_bag = idxs[np.logical_not(indexes)]\n",
    "    \n",
    "    # Put a random item in\n",
    "    out_swap = np.random.choice(out_bag)\n",
    "    indexes[out_swap] = True\n",
    "    \n",
    "    # Take items out until that new item fits\n",
    "    while total_weight(indexes, weights) > max_weight:\n",
    "        in_swap = np.random.choice(in_bag)\n",
    "        indexes[in_swap] = False\n",
    "        \n",
    "    return indexes"
   ]
  },
  {
   "cell_type": "code",
   "execution_count": 642,
   "metadata": {
    "collapsed": false,
    "scrolled": true
   },
   "outputs": [],
   "source": [
    "def simulated_annealing(indices, init_temp, min_temp, cool_by, reanneal, num_iter, values=v, weights=w, max_weight=W):\n",
    "    \"\"\"\n",
    "    Inputs:\n",
    "    -------\n",
    "    indices: boolean array that indicates which possible items are in the bag\n",
    "    init_temp: float that controls the initial temperature of the algorithm\n",
    "    min_temp: float that acts as a floor for the decreasing temperature.  When this is hit, we heat back\n",
    "        up to init_temp.  \n",
    "    cool_by: float that controls the speed that the cooling occurs\n",
    "    reanneal: integer that controls how many iterations pass between cooling steps\n",
    "    num_iter: integer that controls the total number of iterations that the algorithm runs\n",
    "    values: array of values of the items\n",
    "    weights: array of weights of the items\n",
    "    max_weight: float that is the maximum weight that can fit in the bag\n",
    "    \n",
    "    Returns:\n",
    "    --------\n",
    "    states: a history of the current energy state at each iteration\n",
    "    best_bag_indices: the indices of the best bag that was found over all bags that were considered\n",
    "    \"\"\"\n",
    "    \n",
    "    # A running account of the best bag found.  This is updated as better bags are found.\n",
    "    best_bag = total_value(indices, values)\n",
    "    best_bag_indices = indices\n",
    "    \n",
    "    # We work with a copy of the original indices.\n",
    "    indexes=np.copy(indices)\n",
    "    \n",
    "    # Initial value for old_E is the initial total value of the starting point.\n",
    "    old_E = best_bag\n",
    "    \n",
    "    temperature = init_temp\n",
    "    \n",
    "    # Weight of proposed bag; we will propose bags until we find one under the max weight\n",
    "    proposed_bag_weight = max_weight+1\n",
    "    \n",
    "    # A history of the current state of the algorithm\n",
    "    states = np.zeros(num_iter)\n",
    "    \n",
    "    for i in range(num_iter):\n",
    "        \n",
    "        # Switch the bag up a little bit\n",
    "        proposed_indices = swap_items(indexes)\n",
    "\n",
    "        # Examine energy state of the new bag\n",
    "        new_E = total_value(proposed_indices, values)\n",
    "        delta_E = new_E - old_E\n",
    "        \n",
    "        # We always accept an improvement\n",
    "        if new_E > old_E:\n",
    "            indexes = proposed_indices\n",
    "            states[i] = new_E\n",
    "            old_E = new_E\n",
    "            # Update our running best bag found\n",
    "            if new_E > best_bag:\n",
    "                best_bag = new_E\n",
    "                best_bag_indices = indexes\n",
    "        # We sometimes accept a decline because this can get us out of a local maximum\n",
    "        elif np.random.rand() < np.exp(delta_E/temperature):\n",
    "            indexes = proposed_indices\n",
    "            states[i] = new_E\n",
    "            old_E = new_E\n",
    "\n",
    "        # And sometimes we just stay where we are until something better comes along\n",
    "        else: \n",
    "            states[i] = old_E\n",
    "            \n",
    "        # Cool down slowly at the defined interval\n",
    "        if num_iter % reanneal == 0:\n",
    "            temperature = temperature * cool_by\n",
    "            \n",
    "            # Reheat when the temperature gets too cold\n",
    "            if temperature < min_temp:\n",
    "                temperature = init_temp\n",
    "                \n",
    "    return states, best_bag_indices"
   ]
  },
  {
   "cell_type": "markdown",
   "metadata": {},
   "source": [
    "#### Through trial-and-error (and the rules of thumb presented in class), I found parameters that pretty consistently return a best bag found with a value of 916, which I believe is the global maximum.  I build these into a quick function below to display a few results."
   ]
  },
  {
   "cell_type": "code",
   "execution_count": 656,
   "metadata": {
    "collapsed": true
   },
   "outputs": [],
   "source": [
    "## A function to display some demonstrations\n",
    "def display(starting_bag):\n",
    "    print \"Value of starting bag:\", total_value(starting_bag, v)\n",
    "    st, ind = simulated_annealing(starting_bag, 10, 0.01, 0.99, 100, 50000, v, w, W)\n",
    "    plt.plot(st)\n",
    "    plt.title(\"History of Energy States\")\n",
    "    plt.xlabel(\"Iteration count\")\n",
    "    plt.ylabel(\"Bag Value\")\n",
    "    print \"Best bag found:\", total_value(ind,v)"
   ]
  },
  {
   "cell_type": "code",
   "execution_count": 661,
   "metadata": {
    "collapsed": false
   },
   "outputs": [
    {
     "name": "stdout",
     "output_type": "stream",
     "text": [
      "Value of starting bag: 105\n",
      "Best bag found: 916\n"
     ]
    },
    {
     "data": {
      "image/png": "[encoded data removed]",
      "text/plain": [
       "<matplotlib.figure.Figure at 0x1201eb990>"
      ]
     },
     "metadata": {},
     "output_type": "display_data"
    }
   ],
   "source": [
    "## Random starting bag\n",
    "display(random_bag())"
   ]
  },
  {
   "cell_type": "markdown",
   "metadata": {},
   "source": [
    "#### We can also use the indices found in the greedy implementation to give the algorithm a head start.  "
   ]
  },
  {
   "cell_type": "code",
   "execution_count": 662,
   "metadata": {
    "collapsed": false
   },
   "outputs": [
    {
     "name": "stdout",
     "output_type": "stream",
     "text": [
      "Value of starting bag: 897\n",
      "Best bag found: 916\n"
     ]
    },
    {
     "data": {
      "image/png": "[encoded data removed]",
      "text/plain": [
       "<matplotlib.figure.Figure at 0x12a582350>"
      ]
     },
     "metadata": {},
     "output_type": "display_data"
    }
   ],
   "source": [
    "display(greedy_indices)"
   ]
  },
  {
   "cell_type": "markdown",
   "metadata": {},
   "source": [
    "#### The algorithm even works if you start with an empty bag:"
   ]
  },
  {
   "cell_type": "code",
   "execution_count": 1140,
   "metadata": {
    "collapsed": false,
    "scrolled": false
   },
   "outputs": [
    {
     "name": "stdout",
     "output_type": "stream",
     "text": [
      "Value of starting bag: 0\n",
      "Best bag found: 916\n"
     ]
    },
    {
     "data": {
      "image/png": "[encoded data removed]",
      "text/plain": [
       "<matplotlib.figure.Figure at 0x128370490>"
      ]
     },
     "metadata": {},
     "output_type": "display_data"
    }
   ],
   "source": [
    "display(np.zeros(100,dtype=bool))"
   ]
  },
  {
   "cell_type": "markdown",
   "metadata": {},
   "source": [
    "#### In all cases, the behavior of the algorithm is apparent:\n",
    "####    If the initial value is low, the algorithm quickly finds better arrangements and accepts these.  \n",
    "####    Once it gets close to the maximum, it starts to have periods where it plateaus, sticking with one promising set as it is 'picky' about what changes it will accept.  \n",
    "####    In ranges where the temperature is high, the value jumps down occasionally to accept lower value bags, and then rises from there again.  In this way, it gets out of local maxima and tends to find the global maximum eventually.  "
   ]
  },
  {
   "cell_type": "markdown",
   "metadata": {},
   "source": [
    "### To compare the bags that the greedy algorithm and simulated annealing algorithm (SA) found, I present their combination below.  Here, I multiply the SA positives by five to distinguish them from the Greedy positives.  Thus there are four possible values:\n",
    "#### 1) 6: This item is in both solutions\n",
    "#### 2) 5: This item is only in the SA solution\n",
    "#### 3) 1: This item is only in the Greedy solution\n",
    "#### 4) 0: This item appears in neither solution.  "
   ]
  },
  {
   "cell_type": "code",
   "execution_count": 582,
   "metadata": {
    "collapsed": false
   },
   "outputs": [
    {
     "data": {
      "text/plain": [
       "array([ 6.,  0.,  0.,  6.,  0.,  0.,  0.,  0.,  0.,  0.,  6.,  1.,  0.,\n",
       "        0.,  0.,  0.,  0.,  5.,  6.,  6.,  0.,  0.,  0.,  0.,  0.,  5.,\n",
       "        0.,  0.,  0.,  0.,  0.,  0.,  1.,  0.,  0.,  0.,  0.,  0.,  6.,\n",
       "        6.,  0.,  6.,  0.,  0.,  0.,  0.,  0.,  0.,  0.,  6.,  6.,  0.,\n",
       "        0.,  0.,  0.,  0.,  0.,  0.,  6.,  0.,  0.,  0.,  0.,  0.,  0.,\n",
       "        0.,  0.,  0.,  6.,  0.,  6.,  0.,  0.,  0.,  0.,  0.,  0.,  6.,\n",
       "        6.,  6.,  6.,  0.,  0.,  0.,  0.,  6.,  0.,  0.,  6.,  0.,  0.,\n",
       "        0.,  6.,  0.,  0.,  0.,  6.,  0.,  0.,  0.])"
      ]
     },
     "execution_count": 582,
     "metadata": {},
     "output_type": "execute_result"
    }
   ],
   "source": [
    "greedy_indices.astype(float) + 5*ind.astype(float)"
   ]
  },
  {
   "cell_type": "markdown",
   "metadata": {},
   "source": [
    "#### We can see that most of the items are common between the two solutions, and there are two items that are unique for each.  "
   ]
  },
  {
   "cell_type": "code",
   "execution_count": 587,
   "metadata": {
    "collapsed": false
   },
   "outputs": [
    {
     "data": {
      "text/plain": [
       "(array([ 75.,   2.,   0.,   0.,   0.,   0.,   0.,   0.,   2.,  21.]),\n",
       " array([ 0. ,  0.6,  1.2,  1.8,  2.4,  3. ,  3.6,  4.2,  4.8,  5.4,  6. ]),\n",
       " <a list of 10 Patch objects>)"
      ]
     },
     "execution_count": 587,
     "metadata": {},
     "output_type": "execute_result"
    },
    {
     "data": {
      "image/png": "[encoded data removed]",
      "text/plain": [
       "<matplotlib.figure.Figure at 0x1268cd310>"
      ]
     },
     "metadata": {},
     "output_type": "display_data"
    }
   ],
   "source": [
    "plt.hist(greedy_indices.astype(float) + 5*ind.astype(float))"
   ]
  },
  {
   "cell_type": "markdown",
   "metadata": {
    "collapsed": true
   },
   "source": [
    "# Problem 4: Confusing Classifications\n",
    "\n",
    "You are a graduate student conducting research in image processing.  You want to test out your latest algorithm, which you decide to call \"Ultra-Multilayer Hierarchical Super Convolutionary Neural Network.\"  However, in order to test out your algorithm, you need a sizable training data set. Luckly, your advisor has generously given you over 10 GB of over one million stock photos of cats and dogs.  Unfortunately, none of the images are labelled.  Fantastic!  You enjoy looking at photos of puppies and kittens in your spare time anyways so you decide to dedicate this entire weekend to labeling all of them. \n",
    "\n",
    "<table>\n",
    "<tr>\n",
    " <td><img src=\"HW3/cat.jpeg\" width=150>\n",
    " </td>\n",
    " <td><img src=\"HW3/dog.jpeg\" width=150>\n",
    " </td>\n",
    "</tr>\n",
    "</table>\n",
    "\n",
    "However, after spending two hours looking over hundreds of images, these puppies and kittens are no longer looking so cute.  In fact, you are starting to get disgusted at the idea of looking at another picture of these furry creatures.  \n",
    "\n",
    "At this time, you decide to tap into the \"power of the crowd\" by farming out the labeling task to the workers of Amazon Mechanical Turk (MTurk). You decide to hire 3 MTurk workers.  However, you're not sure if these workers are reliable. So, how can you quantify the competency of the workers? In this problem you will develop a model to access the general difficulty of labeling the images of your two classes. \n",
    "\n",
    "Classifying items in general can be hard even for humans.  Some items just look alike, even if they actually are from two different classes. The difficulty in categorizing items of a specific class in relation to other classes is summarized by a [confusion matrix](https://en.wikipedia.org/wiki/Confusion_matrix):\n",
    "\n",
    "$$ \\Theta = \\left( \n",
    "\\begin{array}{cc}\n",
    "1.0 & 0.0 \\\\\n",
    "0.5 & 0.5\n",
    "\\end{array}\n",
    "\\right ) $$\n",
    "\n",
    "This confusion matrix indicates that items of class 1 are very easy to classify, and always correctly labeled, whereas items of class 2 are very hard to classify and labels are basically just random guesses between the two possibilities. \n",
    "\n",
    "The models we discussed so far in homework and lecture were pretty low in dimensions. This problem is going to show you that the number of dimensions can grow very fast for some models, making a good sampling strategy crucial. We will only be able to explore a very minimal version of the problem, because of our limited computational resources, but it should be immediately clear how this model would scale for a greater number of classes, workers, and/or items.\n",
    "\n",
    "Develop a Bayesian model that takes as input a set of (possible erroneous) item labelings and infer the underlying confusion matrix and the true label each data point. To make the model manageable by your laptop, use only one underlying confusion matrix (in principle different people could have different difficulties) two classes for the labels (the confusion matrix is 2x2), and a maximum of 150 data points. \n",
    "\n",
    "The model you are after is displayed in the following dependency graph:\n",
    "<img src=\"HW3/confusion_model.png\" alt=\"confusion matrix model\" width=300>\n",
    "\n",
    "\n",
    "$$\\rho \\sim Dir(\\alpha) $$\n",
    "\n",
    "$$z_i \\sim Multinomial(\\rho)$$\n",
    "\n",
    "\\begin{equation}\n",
    "\\Lambda = \\begin{bmatrix}\n",
    " \\lambda_1 \\\\\n",
    " \\lambda_2 \\\\\n",
    "\\end{bmatrix}\n",
    "\\end{equation}\n",
    "\n",
    "$$\\Theta_{(k,:)} \\sim Dir(\\lambda_k)$$\n",
    "\n",
    "$$r_{i,j} \\sim Multinomial(\\Theta_{(z_i , : )}), \\ \\forall j \\in \\{1,...,J\\}$$\n",
    "\n",
    "You're given reports generated by the 3 workers, so $r_{i,1}$ is one label for item $r_i$ and $r_{i,2}$ is another label given from another worker. Note that if the confusion matrix is not the identity matrix then these labels can be different because the workers make mistakes. The arrows in the diagram indicate dependence. So the labelings you observe are dependent on the confusion matrix $\\Theta$ and the underlying true label $z_i$ for each item. $N$ is the number of data points you have and as described above you should use $N \\leq 150$.\n",
    "\n",
    "You can see from the diagram that the model uses Multinomials with Dirichlet priors. \n",
    "\n",
    "1. Start by describing the model in terms of these distributions, what they mean and what this arrangement means for the form of the labels $z_i$. Discuss the meaning and influence of the hyperparameter $\\alpha$ on the true labels of the data.\n",
    "\n",
    "2. Discuss your selection of the hyperparameter $\\Lambda$ and how that influences the confusion matrix $\\Theta$.\n",
    "\n",
    "3. Implement this Bayesian model and sample from the posterior to recover the underlying confusion matrix $\\Theta$ and the distribution of the true labels $\\rho$.  Note: $\\Theta$ is shared by all three workers."
   ]
  },
  {
   "cell_type": "markdown",
   "metadata": {},
   "source": [
    "1.  The true classifications $z_i$ are drawn from a multinomial distribution that is controlled by the parameter $\\rho$.  $\\rho$ is a 1XN vector that tells the probability of each of the N classes.  In this case, there are 2 classes, so $\\rho$ is 1X2.  The parameter $\\alpha$ is a hyperparameter on the Dirichlet prior of the multinomial distribution, meaning that it controls the shape of the distribution that the population of $\\rho$ values came from. The Dirichlet distribution is a conjugate prior of the multinomial, so the $\\rho$ values will have a Dirichlet distribution.  The ratio of the values within the $\\alpha$ vector control the relative probabilities of the two classes, and the magnitudes of these values control the certainty of these proportions.  High values of $\\alpha$ will create a very peaked Dirichlet distribution, so when we sample we will be very likely to pick $\\rho$ values that are close to the ratio that we have selected, and this corresponds to the situation where we are very certain of the prior probabilities.  \n",
    "\n",
    "2.  The rows of the confusion matrix $\\Theta$ are 1X2 vectors that distributed as Dirichlets controlled by the $\\lambda$ vectors, which are also 1X2, within the $\\Lambda$ matrix.  The hyperparameter $\\Lambda$ reflects our prior knowledge about how accurate the workers are.  For example, if we believe that the workers are always 100% accurate for both classes, we could pick $\\lambda$ vectors with higher values along the diagonal to reflect that they are mostly accurate.  Conversely, if we believe that the workers are often inaccurate, the values along the diagonal would be relatively lower compared to the non-diagonal elements.  As above, the magnitude of these values controls our certainty.  So for example, if we are very confident in our prior belief that the workers are 90% accurate for both classes, we could pick\n",
    "\n",
    "$$\\Lambda = \n",
    "\\left( \n",
    "\\begin{array}{cc}\n",
    "900 & 100 \\\\\n",
    "100 & 900\n",
    "\\end{array} \n",
    "\\right)$$\n",
    "but if we are less confident about the same belief of 90% accuracy, we could pick $$\\Lambda =\n",
    "\\left(\n",
    "\\begin{array}{cc}\n",
    "9 & 1 \\\\\n",
    "1 & 9\n",
    "\\end{array}\n",
    "\\right)$$\n",
    "\n"
   ]
  },
  {
   "cell_type": "code",
   "execution_count": 1413,
   "metadata": {
    "collapsed": false
   },
   "outputs": [],
   "source": [
    "# Here is your data\n",
    "\n",
    "reports = np.load(\"HW3/reports.npy\")"
   ]
  },
  {
   "cell_type": "code",
   "execution_count": 1689,
   "metadata": {
    "collapsed": false
   },
   "outputs": [],
   "source": [
    "# Define hyperparameters for the priors:\n",
    "\n",
    "# These values reflect a prior belief that the workers are mostly accurate, but with a low confidence in this belief. \n",
    "Lambda = np.array([[3,1],\n",
    "                   [1,3]])\n",
    "\n",
    "# These values reflect a prior belief that half of the images are cats and the other half are dogs, \n",
    "#    with low confidence.  \n",
    "alpha = [1,1]\n",
    "\n",
    "# These values give a runtime of about five minutes for the sampling, which was suitable for tweaking the \n",
    "#    hyperparameters.  \n",
    "num_iterations = 2000\n",
    "num_burn = 200\n",
    "thin=10"
   ]
  },
  {
   "cell_type": "code",
   "execution_count": 1690,
   "metadata": {
    "collapsed": false
   },
   "outputs": [
    {
     "name": "stdout",
     "output_type": "stream",
     "text": [
      " [-----------------100%-----------------] 2001 of 2000 complete in 269.3 sec"
     ]
    }
   ],
   "source": [
    "# We create a Dirichlet distribution with the prior alpha\n",
    "rho1 = pm.Dirichlet('rho1', alpha, trace=False)\n",
    "\n",
    "# We have to complete it to give the probabilities of each class\n",
    "rho2 = pm.CompletedDirichlet(\"rho2\",rho1)\n",
    "\n",
    "\n",
    "# We create two Dirichlets, one for each row of Theta.  Each row is created using the corresponding\n",
    "#    prior on that row in Lambda\n",
    "Theta1 = [pm.Dirichlet('theta_row0_1', Lambda[0], trace=False), \\\n",
    "          pm.Dirichlet('theta_row1_1', Lambda[1], trace=False)]\n",
    "\n",
    "# As above, we need to complete each one to give both probabilities.\n",
    "Theta2 = [pm.CompletedDirichlet('theta_row0_2', Theta1[0]), pm.CompletedDirichlet('theta_row1_2', Theta1[1])]\n",
    "\n",
    "# We put these in a container so that they can be indexed\n",
    "Theta = pm.Container(Theta2)\n",
    "\n",
    "\n",
    "# For each of the 150 images, we will draw a single sample from the Multinomial distribution using the \n",
    "#    prior rho.  These need to be wrapped in a container to index them\n",
    "z = pm.Container([pm.Multinomial('z_%i' % i, n=1, p=rho2, trace=False) for i in range(150)])\n",
    "\n",
    "\n",
    "# Likelihood function\n",
    "@pm.observed\n",
    "def likelihood(value=reports, theta = Theta, z=z):\n",
    "    likelihood=0\n",
    "    # Go over all items\n",
    "    for n in range(150):\n",
    "        # Go over each of the three workers' classification for each item\n",
    "        for j in range(3):\n",
    "            # Find the true class\n",
    "            idx_of_true = np.argmax(z[n])\n",
    "            # Log-likelihood is sum of log-likelihoods for each worker's classification of each image\n",
    "            likelihood += pm.multinomial_like(value[n,j], n=1, p=theta[idx_of_true])\n",
    "\n",
    "    return likelihood\n",
    "\n",
    "\n",
    "M = pm.MCMC([rho1, rho2, Theta1, Theta2, Theta, z, likelihood])\n",
    "M.sample(num_iterations, num_burn, thin)\n",
    "# M.summary()\n",
    "stats = M.stats()"
   ]
  },
  {
   "cell_type": "code",
   "execution_count": 1692,
   "metadata": {
    "collapsed": false
   },
   "outputs": [
    {
     "name": "stdout",
     "output_type": "stream",
     "text": [
      "\n",
      "theta_row1_2:\n",
      " \n",
      "\tMean             SD               MC Error        95% HPD interval\n",
      "\t------------------------------------------------------------------\n",
      "\t0.323            0.042            0.004            [ 0.232  0.408]\n",
      "\t0.677            0.042            0.004            [ 0.592  0.768]\n",
      "\t\n",
      "\t\n",
      "\tPosterior quantiles:\n",
      "\t\n",
      "\t2.5             25              50              75             97.5\n",
      "\t |---------------|===============|===============|---------------|\n",
      "\t0.221            0.298           0.324          0.353         0.406\n",
      "\t0.594            0.649           0.677          0.702         0.779\n",
      "\t\n",
      "\n",
      "theta_row0_2:\n",
      " \n",
      "\tMean             SD               MC Error        95% HPD interval\n",
      "\t------------------------------------------------------------------\n",
      "\t0.801            0.084            0.007            [ 0.67   0.973]\n",
      "\t0.199            0.084            0.007            [ 0.027  0.33 ]\n",
      "\t\n",
      "\t\n",
      "\tPosterior quantiles:\n",
      "\t\n",
      "\t2.5             25              50              75             97.5\n",
      "\t |---------------|===============|===============|---------------|\n",
      "\t0.625            0.746           0.811          0.852         0.973\n",
      "\t0.027            0.148           0.189          0.254         0.375\n",
      "\t\n",
      "\n",
      "rho2:\n",
      " \n",
      "\tMean             SD               MC Error        95% HPD interval\n",
      "\t------------------------------------------------------------------\n",
      "\t0.337            0.101            0.008            [ 0.116  0.513]\n",
      "\t0.663            0.101            0.008            [ 0.487  0.884]\n",
      "\t\n",
      "\t\n",
      "\tPosterior quantiles:\n",
      "\t\n",
      "\t2.5             25              50              75             97.5\n",
      "\t |---------------|===============|===============|---------------|\n",
      "\t0.143            0.268           0.341          0.4           0.564\n",
      "\t0.436            0.601           0.659          0.732         0.857\n",
      "\t\n"
     ]
    }
   ],
   "source": [
    "M.summary()"
   ]
  },
  {
   "cell_type": "code",
   "execution_count": 1709,
   "metadata": {
    "collapsed": false
   },
   "outputs": [
    {
     "name": "stdout",
     "output_type": "stream",
     "text": [
      "Plotting theta_row0_2_0_0\n",
      "Plotting theta_row0_2_0_1\n"
     ]
    },
    {
     "data": {
      "image/png": "[encoded data removed]",
      "text/plain": [
       "<matplotlib.figure.Figure at 0x14aa78650>"
      ]
     },
     "metadata": {},
     "output_type": "display_data"
    }
   ],
   "source": [
    "pm.Matplot.plot(Theta[0])"
   ]
  },
  {
   "cell_type": "code",
   "execution_count": 1710,
   "metadata": {
    "collapsed": false
   },
   "outputs": [
    {
     "name": "stdout",
     "output_type": "stream",
     "text": [
      "Plotting theta_row1_2_0_0\n",
      "Plotting theta_row1_2_0_1\n"
     ]
    },
    {
     "data": {
      "image/png": "[encoded data removed]",
      "text/plain": [
       "<matplotlib.figure.Figure at 0x138f75550>"
      ]
     },
     "metadata": {},
     "output_type": "display_data"
    }
   ],
   "source": [
    "pm.Matplot.plot(Theta[1])"
   ]
  },
  {
   "cell_type": "markdown",
   "metadata": {},
   "source": [
    "We see strong evidence for convergence of the sampling for the rows of $\\Theta$ in the low autocorrelation values, and the fact that the trace plots are centered at the mean values.  The case for convergence of $\\rho$ is less strong, as evidenced by a more volatile and autocorrelated traceplot, and higher variance for the prediction.  "
   ]
  },
  {
   "cell_type": "code",
   "execution_count": 1708,
   "metadata": {
    "collapsed": false
   },
   "outputs": [
    {
     "name": "stdout",
     "output_type": "stream",
     "text": [
      "Plotting rho2_0_0\n",
      "Plotting rho2_0_1\n"
     ]
    },
    {
     "data": {
      "image/png": "[encoded data removed]",
      "text/plain": [
       "<matplotlib.figure.Figure at 0x14d01c750>"
      ]
     },
     "metadata": {},
     "output_type": "display_data"
    }
   ],
   "source": [
    "pm.Matplot.plot(rho2)"
   ]
  },
  {
   "cell_type": "code",
   "execution_count": 1705,
   "metadata": {
    "collapsed": false
   },
   "outputs": [
    {
     "data": {
      "text/plain": [
       "{'95% HPD interval': array([[ 0.66960612,  0.02674299],\n",
       "        [ 0.97325701,  0.33039388]]),\n",
       " 'mc error': array([ 0.00710957,  0.00710957]),\n",
       " 'mean': array([ 0.80105847,  0.19894153]),\n",
       " 'n': 180,\n",
       " 'quantiles': {2.5: array([ 0.6250951 ,  0.02674299]),\n",
       "  25: array([ 0.74560559,  0.14830255]),\n",
       "  50: array([ 0.81141455,  0.18858545]),\n",
       "  75: array([ 0.85169745,  0.25439441]),\n",
       "  97.5: array([ 0.97325701,  0.3749049 ])},\n",
       " 'standard deviation': array([ 0.0842546,  0.0842546])}"
      ]
     },
     "execution_count": 1705,
     "metadata": {},
     "output_type": "execute_result"
    }
   ],
   "source": [
    "stats['theta_row0_2']"
   ]
  },
  {
   "cell_type": "code",
   "execution_count": 1706,
   "metadata": {
    "collapsed": false,
    "scrolled": true
   },
   "outputs": [
    {
     "data": {
      "text/plain": [
       "{'95% HPD interval': array([[ 0.23187452,  0.59203194],\n",
       "        [ 0.40796806,  0.76812548]]),\n",
       " 'mc error': array([ 0.00384406,  0.00384406]),\n",
       " 'mean': array([ 0.32280887,  0.67719113]),\n",
       " 'n': 180,\n",
       " 'quantiles': {2.5: array([ 0.22074502,  0.59411642]),\n",
       "  25: array([ 0.29843312,  0.64864198]),\n",
       "  50: array([ 0.32393346,  0.67670852]),\n",
       "  75: array([ 0.35264257,  0.70226602]),\n",
       "  97.5: array([ 0.40588358,  0.77925498])},\n",
       " 'standard deviation': array([ 0.0418046,  0.0418046])}"
      ]
     },
     "execution_count": 1706,
     "metadata": {},
     "output_type": "execute_result"
    }
   ],
   "source": [
    "stats['theta_row1_2']"
   ]
  },
  {
   "cell_type": "code",
   "execution_count": 1707,
   "metadata": {
    "collapsed": false
   },
   "outputs": [
    {
     "data": {
      "text/plain": [
       "{'95% HPD interval': array([[ 0.11619345,  0.48746724],\n",
       "        [ 0.51253276,  0.88380655]]),\n",
       " 'mc error': array([ 0.00849035,  0.00849035]),\n",
       " 'mean': array([ 0.33723467,  0.66276533]),\n",
       " 'n': 180,\n",
       " 'quantiles': {2.5: array([ 0.14336444,  0.4364438 ]),\n",
       "  25: array([ 0.26837566,  0.60053309]),\n",
       "  50: array([ 0.34086468,  0.65913532]),\n",
       "  75: array([ 0.39967943,  0.73207729]),\n",
       "  97.5: array([ 0.5635562 ,  0.85663556])},\n",
       " 'standard deviation': array([ 0.10121858,  0.10121858])}"
      ]
     },
     "execution_count": 1707,
     "metadata": {},
     "output_type": "execute_result"
    }
   ],
   "source": [
    "stats['rho2']"
   ]
  },
  {
   "cell_type": "markdown",
   "metadata": {},
   "source": [
    "In summary: \n",
    "\n",
    "The $\\rho$ value determined by the sampling is $$\\rho = \\left(\\begin{array}{cc}0.34& 0.66\\end{array}\\right)$$\n",
    "\n",
    " with standard deviations \n",
    " $$\\sigma_{\\rho} = \\left(\\begin{array}{cc}0.1& 0.1\\end{array}\\right)$$\n",
    "\n",
    "The $\\Theta$ determined by the sampling is \n",
    "$$ \\Theta = \n",
    "\\left(\n",
    "\\begin{array}{cc}\n",
    "0.80 & 0.20 \\\\\n",
    "0.32 & 0.68\n",
    "\\end{array}\n",
    "\\right)$$\n",
    "\n",
    "with standard deviations\n",
    "$$\\sigma_{\\Theta} = \\left(\n",
    "\\begin{array}{cc}\n",
    "0.08 & 0.08 \\\\\n",
    "0.04 & 0.04\n",
    "\\end{array}\n",
    "\\right)$$\n",
    "\n"
   ]
  },
  {
   "cell_type": "code",
   "execution_count": null,
   "metadata": {
    "collapsed": true
   },
   "outputs": [],
   "source": []
  },
  {
   "cell_type": "code",
   "execution_count": null,
   "metadata": {
    "collapsed": true
   },
   "outputs": [],
   "source": []
  },
  {
   "cell_type": "markdown",
   "metadata": {},
   "source": [
    "Acknowledgements: I got a lot of help from Richard and Rafael.  I also worked with Victor Lei, Sam Daulton, Reinier Maat, Taylor Killian, Andrew Petzchek, Abhishek Malali, Avery Faller.  "
   ]
  },
  {
   "cell_type": "code",
   "execution_count": null,
   "metadata": {
    "collapsed": true
   },
   "outputs": [],
   "source": []
  }
 ],
 "metadata": {
  "kernelspec": {
   "display_name": "Python 2",
   "language": "python",
   "name": "python2"
  },
  "language_info": {
   "codemirror_mode": {
    "name": "ipython",
    "version": 2
   },
   "file_extension": ".py",
   "mimetype": "text/x-python",
   "name": "python",
   "nbconvert_exporter": "python",
   "pygments_lexer": "ipython2",
   "version": "2.7.10"
  }
 },
 "nbformat": 4,
 "nbformat_minor": 0
}
